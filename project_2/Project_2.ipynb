{
  "nbformat": 4,
  "nbformat_minor": 0,
  "metadata": {
    "colab": {
      "provenance": []
    },
    "kernelspec": {
      "name": "python3",
      "display_name": "Python 3"
    },
    "language_info": {
      "name": "python"
    }
  },
  "cells": [
    {
      "cell_type": "markdown",
      "source": [
        "**Reading in Files + Importing Pandas and Numpy**"
      ],
      "metadata": {
        "id": "HPCsw345cfva"
      }
    },
    {
      "cell_type": "code",
      "source": [
        "import pandas as pd\n",
        "import numpy as np"
      ],
      "metadata": {
        "id": "nuqQtVYub9gW"
      },
      "execution_count": null,
      "outputs": []
    },
    {
      "cell_type": "code",
      "source": [
        "! git clone https://github.com/DS3001/group12"
      ],
      "metadata": {
        "colab": {
          "base_uri": "https://localhost:8080/"
        },
        "id": "695c84jdaOwA",
        "outputId": "cad4722c-2f1a-40fe-bff0-004fc187e5c4"
      },
      "execution_count": null,
      "outputs": [
        {
          "output_type": "stream",
          "name": "stdout",
          "text": [
            "fatal: destination path 'group12' already exists and is not an empty directory.\n"
          ]
        }
      ]
    },
    {
      "cell_type": "code",
      "source": [
        "df_train = pd.read_csv('./group12/project_2/data/training_data.csv')\n",
        "df_test = pd.read_csv('./group12/project_2/data/testing_data.csv')"
      ],
      "metadata": {
        "id": "7RZwhuykbLvm"
      },
      "execution_count": null,
      "outputs": []
    },
    {
      "cell_type": "markdown",
      "source": [
        "**Data Wrangling**"
      ],
      "metadata": {
        "id": "O7NAYwgXcw3U"
      }
    },
    {
      "cell_type": "code",
      "source": [
        "print(df_train['age'].unique(),'\\n')\n",
        "print(df_train['age'].value_counts(), '\\n')\n",
        "print(df_train['age'].describe(),'\\n')"
      ],
      "metadata": {
        "colab": {
          "base_uri": "https://localhost:8080/"
        },
        "id": "UGLRb-ibce9C",
        "outputId": "0b20fac5-a9d1-4ec6-a113-ea6a0f9b7af7"
      },
      "execution_count": null,
      "outputs": [
        {
          "output_type": "stream",
          "name": "stdout",
          "text": [
            "[3.60e+01 4.50e+01 5.80e+01 6.10e+01 7.80e+01 3.40e+01 3.70e+01 6.30e+01\n",
            " 7.20e+01 5.90e+01 2.60e+01 4.60e+01 1.70e+01 2.90e+01 1.60e+01 4.40e+01\n",
            " 7.90e+01 7.30e+01 3.00e+01 5.00e+00 3.20e-01 1.30e+01 2.20e+01 8.00e+01\n",
            " 6.20e+01 6.70e+01 5.60e+01 1.10e+01 4.00e+01 2.40e-01 9.00e+00 6.00e+01\n",
            " 7.40e+01 2.80e+01 5.10e+01 5.20e+01 3.20e+01 2.50e+01 8.20e+01 3.50e+01\n",
            " 2.30e+01 4.70e+01 5.50e+01 2.70e+01 6.00e+00 3.30e+01 4.90e+01 5.30e+01\n",
            " 4.20e+01 5.70e+01 6.60e+01 7.10e+01 1.60e-01 5.40e+01 3.00e+00 7.00e+00\n",
            " 6.40e+01 4.30e+01 3.10e+01 2.10e+01 6.50e+01 1.80e+01 4.10e+01 8.10e+01\n",
            " 1.00e+00 2.40e+01 3.90e+01 7.00e+01 2.00e+00 4.80e+01 8.00e-02 3.80e+01\n",
            " 7.50e+01 1.88e+00 1.00e+01 1.20e+01 6.40e-01 2.00e+01 5.00e+01 7.70e+01\n",
            " 1.90e+01 1.08e+00 8.00e+00 6.90e+01 6.80e+01 1.40e+01 4.00e+00 7.60e+01\n",
            " 1.16e+00 1.80e+00 1.72e+00 1.32e+00 1.50e+01 4.00e-01 8.80e-01 7.20e-01\n",
            " 5.60e-01 1.24e+00 1.64e+00 1.56e+00 4.80e-01 1.40e+00 8.00e-01 1.48e+00] \n",
            "\n",
            "78.00    89\n",
            "51.00    75\n",
            "53.00    73\n",
            "45.00    73\n",
            "55.00    71\n",
            "         ..\n",
            "0.40      2\n",
            "0.08      2\n",
            "0.48      2\n",
            "1.40      2\n",
            "0.16      2\n",
            "Name: age, Length: 104, dtype: int64 \n",
            "\n",
            "count    4087.000000\n",
            "mean       43.324169\n",
            "std        22.531019\n",
            "min         0.080000\n",
            "25%        26.000000\n",
            "50%        45.000000\n",
            "75%        61.000000\n",
            "max        82.000000\n",
            "Name: age, dtype: float64 \n",
            "\n"
          ]
        }
      ]
    },
    {
      "cell_type": "code",
      "source": [
        "values_to_replace = [1.40, 1.08, 1.16, 1.32, 1.24, 1.48]\n",
        "replacement_value = 1\n",
        "\n",
        "df_train['age'] = df_train['age'].replace(values_to_replace, replacement_value)\n",
        "df_test['age'] = df_train['age'].replace(values_to_replace, replacement_value)\n",
        "\n",
        "values_to_replace2 = [0.40, 0.08, 0.48, 0.16, 0.32, 0.88, 0.72, 0.56, 0.24, 0.64, 0.8]\n",
        "replacement_value2 = 0\n",
        "\n",
        "df_train['age'] = df_train['age'].replace(values_to_replace2, replacement_value2)\n",
        "df_test['age'] = df_train['age'].replace(values_to_replace2, replacement_value2)\n",
        "\n",
        "\n",
        "values_to_replace3 = [1.88, 1.72, 1.64, 1.56, 1.8]\n",
        "replacement_value3 = 2\n",
        "\n",
        "df_train['age'] = df_train['age'].replace(values_to_replace3, replacement_value3)\n",
        "df_test['age'] = df_train['age'].replace(values_to_replace3, replacement_value3)"
      ],
      "metadata": {
        "id": "ol5sY5FgfgtQ"
      },
      "execution_count": null,
      "outputs": []
    },
    {
      "cell_type": "code",
      "source": [
        "print(df_train['avg_glucose_level'].unique(),'\\n')\n",
        "print(df_train['avg_glucose_level'].value_counts(), '\\n')\n",
        "print(df_train['avg_glucose_level'].describe(),'\\n')"
      ],
      "metadata": {
        "colab": {
          "base_uri": "https://localhost:8080/"
        },
        "id": "HpUdQ1Rmce7A",
        "outputId": "5c73272f-d84a-4193-ab5c-74fa363fc949"
      },
      "execution_count": null,
      "outputs": [
        {
          "output_type": "stream",
          "name": "stdout",
          "text": [
            "[ 65.87  68.66 170.93 ...  80.13 210.4   86.94] \n",
            "\n",
            "93.88     6\n",
            "93.55     4\n",
            "80.08     4\n",
            "88.83     4\n",
            "83.16     4\n",
            "         ..\n",
            "220.64    1\n",
            "70.32     1\n",
            "55.62     1\n",
            "118.75    1\n",
            "86.94     1\n",
            "Name: avg_glucose_level, Length: 3327, dtype: int64 \n",
            "\n",
            "count    4087.000000\n",
            "mean      106.010396\n",
            "std        45.047912\n",
            "min        55.120000\n",
            "25%        77.295000\n",
            "50%        92.000000\n",
            "75%       113.845000\n",
            "max       271.740000\n",
            "Name: avg_glucose_level, dtype: float64 \n",
            "\n"
          ]
        }
      ]
    },
    {
      "cell_type": "code",
      "source": [
        "print(df_train['bmi'].unique(),'\\n')\n",
        "print(df_train['bmi'].value_counts(), '\\n')\n",
        "print(df_train['bmi'].describe(),'\\n')"
      ],
      "metadata": {
        "colab": {
          "base_uri": "https://localhost:8080/"
        },
        "id": "FHrbU-noce2v",
        "outputId": "21027d4a-36bc-47c2-976b-7bb81ba65774"
      },
      "execution_count": null,
      "outputs": [
        {
          "output_type": "stream",
          "name": "stdout",
          "text": [
            "[32.2 25.3 30.7 27.1 30.6 30.4 41.7 22.3 35.9 33.8 29.4 28.9 26.2 22.5\n",
            " 55.7 26.1 22.4 33.2 24.8 20.9 22.  27.6 35.8 32.8 15.9 16.2 41.3 22.9\n",
            " 19.5 31.1 31.9 30.9 15.7 24.6 18.6 27.4 25.6 25.4 25.5 26.3 35.2  nan\n",
            " 28.3 32.3 18.8 33.7 30.8 41.1 31.2 33.3 20.8 19.4 46.5 28.7 23.6 31.7\n",
            " 29.9 26.7 28.5 29.3 29.6 19.2 34.9 32.4 17.4 36.1 43.2 20.2 31.4 30.2\n",
            " 20.4 30.5 34.7 26.5 35.5 33.9 29.2 24.9 17.6 23.  19.8 23.5 32.7 39.4\n",
            " 35.3 30.1 27.2 29.  36.6 33.1 38.4 20.  28.6 23.9 23.2 23.7 60.9 22.1\n",
            " 25.9 26.  31.5 16.7 31.  43.6 24.5 32.  35.1 18.3 44.7 54.7 39.7 26.4\n",
            " 34.3 17.7 32.1 35.7 40.1 16.9 35.  38.1 71.9 43.7 19.1 26.6 17.9 27.9\n",
            " 25.8 21.  28.8 49.3 37.2 23.1 40.5 35.6 20.7 34.  36.4 20.1 37.3 22.2\n",
            " 17.3 28.  25.  21.8 28.1 39.2 32.6 25.1 41.2 26.9 24.1 38.5 33.6 17.\n",
            " 33.4 18.1 34.8 30.3 16.  29.5 18.2 27.8 39.  24.3 21.9 37.8 23.4 22.8\n",
            " 21.1 24.7 43.9 21.5 22.6 20.3 18.4 38.6 19.  57.2 33.  29.1 48.8 16.4\n",
            " 21.4 29.8 17.2 45.  13.7 38.  15.6 31.8 43.  24.  42.3 16.6 23.8 44.8\n",
            " 27.3 20.6 37.9 34.5 24.2 27.  18.5 21.3 30.  37.  36.2 31.6 16.3 14.1\n",
            " 18.7 36.7 47.6 39.9 43.8 27.7 42.1 14.4 29.7 36.9 39.1 26.8 44.  38.8\n",
            " 23.3 40.4 35.4 14.3 21.6 37.4 51.  13.8 33.5 19.3 28.2 53.9 27.5 15.5\n",
            " 28.4 13.3 20.5 46.4 52.3 34.1 32.9 36.3 41.8 25.7 14.6 42.2 31.3 25.2\n",
            " 38.9 45.8 54.  12.  34.2 19.7 53.8 16.8 17.8 41.6 22.7 59.7 40.3 18.\n",
            " 55.2 34.4 37.6 41.5 18.9 41.  42.4 40.2 15.4 37.1 50.5 43.3 78.  54.1\n",
            " 16.1 19.6 42.8 42.5 17.1 34.6 36.8 24.4 37.7 17.5 45.1 21.2 46.  44.5\n",
            " 49.5 32.5 14.  40.7 45.3 15.8 42.7 48.2 40.8 36.  37.5 57.7 36.5 48.5\n",
            " 50.3 13.5 50.2 14.8 39.8 38.2 40.  45.2 38.3 55.9 60.2 46.9 49.8 21.7\n",
            " 19.9 40.9 43.1 15.3 39.5 53.5 39.6 48.  52.8 56.  47.5 15.2 42.  15.1\n",
            " 56.1 50.9 14.9 52.9 51.5 48.7 38.7 13.4 57.9 46.8 47.3 92.  44.9 42.9\n",
            " 52.7 66.8 39.3 16.5 43.4 12.8 50.6 52.5 54.2 51.8 64.4 14.2 49.4 44.4\n",
            " 51.7 42.6 45.4 12.3 48.3 47.8 56.6 97.6 48.4 14.5 55.  41.9 41.4 44.6\n",
            " 55.1 47.1 49.2 44.3 45.5 48.9 46.2 13.  44.2 57.3 15.  46.1 13.2 61.2\n",
            " 50.8 61.6 63.3 10.3 53.4 54.8 11.3 46.3 46.6 45.9 44.1 45.7] \n",
            "\n",
            "27.6    34\n",
            "28.7    31\n",
            "26.1    31\n",
            "28.4    31\n",
            "25.5    28\n",
            "        ..\n",
            "56.1     1\n",
            "56.0     1\n",
            "48.0     1\n",
            "53.5     1\n",
            "45.7     1\n",
            "Name: bmi, Length: 403, dtype: int64 \n",
            "\n",
            "count    3928.000000\n",
            "mean       28.923371\n",
            "std         7.843083\n",
            "min        10.300000\n",
            "25%        23.600000\n",
            "50%        28.100000\n",
            "75%        33.100000\n",
            "max        97.600000\n",
            "Name: bmi, dtype: float64 \n",
            "\n"
          ]
        }
      ]
    },
    {
      "cell_type": "code",
      "source": [
        "df_train['bmi'] = df_train['bmi'].fillna(28.9)\n",
        "df_test['bmi'] = df_test['bmi'].fillna(28.9)"
      ],
      "metadata": {
        "id": "P6Q2STlzi3W1"
      },
      "execution_count": null,
      "outputs": []
    },
    {
      "cell_type": "code",
      "source": [
        "print(df_train['ever_married'].unique(),'\\n')\n",
        "print(df_train['ever_married'].value_counts(), '\\n')\n",
        "print(df_train['ever_married'].describe(),'\\n')"
      ],
      "metadata": {
        "colab": {
          "base_uri": "https://localhost:8080/"
        },
        "id": "kbsfLZkGce43",
        "outputId": "79939aee-f06c-42b8-c806-3e5daa9c871c"
      },
      "execution_count": null,
      "outputs": [
        {
          "output_type": "stream",
          "name": "stdout",
          "text": [
            "['Yes' 'No'] \n",
            "\n",
            "Yes    2686\n",
            "No     1401\n",
            "Name: ever_married, dtype: int64 \n",
            "\n",
            "count     4087\n",
            "unique       2\n",
            "top        Yes\n",
            "freq      2686\n",
            "Name: ever_married, dtype: object \n",
            "\n"
          ]
        }
      ]
    },
    {
      "cell_type": "code",
      "source": [
        "print(df_train['gender'].unique(),'\\n')\n",
        "print(df_train['gender'].value_counts(), '\\n')\n",
        "print(df_train['gender'].describe(),'\\n')"
      ],
      "metadata": {
        "colab": {
          "base_uri": "https://localhost:8080/"
        },
        "id": "j1yCK1K-ce0M",
        "outputId": "6ec256bf-f98b-489b-fb06-ad7f111e627e"
      },
      "execution_count": null,
      "outputs": [
        {
          "output_type": "stream",
          "name": "stdout",
          "text": [
            "['Male' 'Female' 'Other'] \n",
            "\n",
            "Female    2398\n",
            "Male      1688\n",
            "Other        1\n",
            "Name: gender, dtype: int64 \n",
            "\n",
            "count       4087\n",
            "unique         3\n",
            "top       Female\n",
            "freq        2398\n",
            "Name: gender, dtype: object \n",
            "\n"
          ]
        }
      ]
    },
    {
      "cell_type": "code",
      "source": [
        "print(df_train['heart_disease'].unique(),'\\n')\n",
        "print(df_train['heart_disease'].value_counts(), '\\n')\n",
        "print(df_train['heart_disease'].describe(),'\\n')"
      ],
      "metadata": {
        "colab": {
          "base_uri": "https://localhost:8080/"
        },
        "id": "LlVX4aOhcexd",
        "outputId": "ca868ce6-fc88-458f-a726-a55649f14771"
      },
      "execution_count": null,
      "outputs": [
        {
          "output_type": "stream",
          "name": "stdout",
          "text": [
            "[0 1] \n",
            "\n",
            "0    3858\n",
            "1     229\n",
            "Name: heart_disease, dtype: int64 \n",
            "\n",
            "count    4087.000000\n",
            "mean        0.056031\n",
            "std         0.230010\n",
            "min         0.000000\n",
            "25%         0.000000\n",
            "50%         0.000000\n",
            "75%         0.000000\n",
            "max         1.000000\n",
            "Name: heart_disease, dtype: float64 \n",
            "\n"
          ]
        }
      ]
    },
    {
      "cell_type": "code",
      "source": [
        "print(df_train['hypertension'].unique(),'\\n')\n",
        "print(df_train['hypertension'].value_counts(), '\\n')\n",
        "print(df_train['hypertension'].describe(),'\\n')"
      ],
      "metadata": {
        "colab": {
          "base_uri": "https://localhost:8080/"
        },
        "id": "l00oOr7AceuS",
        "outputId": "86fdf417-78d5-443a-ec04-c273cf0db14e"
      },
      "execution_count": null,
      "outputs": [
        {
          "output_type": "stream",
          "name": "stdout",
          "text": [
            "[0 1] \n",
            "\n",
            "0    3687\n",
            "1     400\n",
            "Name: hypertension, dtype: int64 \n",
            "\n",
            "count    4087.000000\n",
            "mean        0.097871\n",
            "std         0.297177\n",
            "min         0.000000\n",
            "25%         0.000000\n",
            "50%         0.000000\n",
            "75%         0.000000\n",
            "max         1.000000\n",
            "Name: hypertension, dtype: float64 \n",
            "\n"
          ]
        }
      ]
    },
    {
      "cell_type": "code",
      "source": [
        "print(df_train['id'].unique(),'\\n')\n",
        "print(df_train['id'].value_counts(), '\\n')\n",
        "print(df_train['id'].describe(),'\\n')"
      ],
      "metadata": {
        "colab": {
          "base_uri": "https://localhost:8080/"
        },
        "id": "OKg8w7u5cejd",
        "outputId": "7293be2d-3930-4833-9357-a9d2d1d2021a"
      },
      "execution_count": null,
      "outputs": [
        {
          "output_type": "stream",
          "name": "stdout",
          "text": [
            "[68685 59058 46068 ... 37060 29552 14499] \n",
            "\n",
            "68685    1\n",
            "25446    1\n",
            "51524    1\n",
            "59743    1\n",
            "5043     1\n",
            "        ..\n",
            "57944    1\n",
            "53976    1\n",
            "52419    1\n",
            "19907    1\n",
            "14499    1\n",
            "Name: id, Length: 4087, dtype: int64 \n",
            "\n",
            "count     4087.000000\n",
            "mean     36383.068265\n",
            "std      21189.857848\n",
            "min         67.000000\n",
            "25%      17417.500000\n",
            "50%      36814.000000\n",
            "75%      54584.500000\n",
            "max      72940.000000\n",
            "Name: id, dtype: float64 \n",
            "\n"
          ]
        }
      ]
    },
    {
      "cell_type": "code",
      "source": [
        "print(df_train['Residence_type'].unique(),'\\n')\n",
        "print(df_train['Residence_type'].value_counts(), '\\n')\n",
        "print(df_train['Residence_type'].describe(),'\\n')"
      ],
      "metadata": {
        "colab": {
          "base_uri": "https://localhost:8080/"
        },
        "id": "REedWDDhd0Cw",
        "outputId": "74a344e7-7b6d-41cd-cac0-5e1a244e3f84"
      },
      "execution_count": null,
      "outputs": [
        {
          "output_type": "stream",
          "name": "stdout",
          "text": [
            "['Urban' 'Rural'] \n",
            "\n",
            "Urban    2052\n",
            "Rural    2035\n",
            "Name: Residence_type, dtype: int64 \n",
            "\n",
            "count      4087\n",
            "unique        2\n",
            "top       Urban\n",
            "freq       2052\n",
            "Name: Residence_type, dtype: object \n",
            "\n"
          ]
        }
      ]
    },
    {
      "cell_type": "code",
      "source": [
        "print(df_train['smoking_status'].unique(),'\\n')\n",
        "print(df_train['smoking_status'].value_counts(), '\\n')\n",
        "print(df_train['smoking_status'].describe(),'\\n')"
      ],
      "metadata": {
        "colab": {
          "base_uri": "https://localhost:8080/"
        },
        "id": "YhfkjNwEd6km",
        "outputId": "296892a6-8616-404f-9dee-b3b2b26bc39e"
      },
      "execution_count": null,
      "outputs": [
        {
          "output_type": "stream",
          "name": "stdout",
          "text": [
            "['formerly smoked' 'never smoked' 'Unknown' 'smokes'] \n",
            "\n",
            "never smoked       1505\n",
            "Unknown            1241\n",
            "formerly smoked     699\n",
            "smokes              642\n",
            "Name: smoking_status, dtype: int64 \n",
            "\n",
            "count             4087\n",
            "unique               4\n",
            "top       never smoked\n",
            "freq              1505\n",
            "Name: smoking_status, dtype: object \n",
            "\n"
          ]
        }
      ]
    },
    {
      "cell_type": "code",
      "source": [
        "print(df_train['work_type'].unique(),'\\n')\n",
        "print(df_train['work_type'].value_counts(), '\\n')\n",
        "print(df_train['work_type'].describe(),'\\n')"
      ],
      "metadata": {
        "colab": {
          "base_uri": "https://localhost:8080/"
        },
        "id": "nwKJR7J8eEHD",
        "outputId": "d58a149a-a93b-4dd4-ce38-44d30b90a489"
      },
      "execution_count": null,
      "outputs": [
        {
          "output_type": "stream",
          "name": "stdout",
          "text": [
            "['Govt_job' 'Self-employed' 'Private' 'children' 'Never_worked'] \n",
            "\n",
            "Private          2329\n",
            "Self-employed     667\n",
            "children          542\n",
            "Govt_job          534\n",
            "Never_worked       15\n",
            "Name: work_type, dtype: int64 \n",
            "\n",
            "count        4087\n",
            "unique          5\n",
            "top       Private\n",
            "freq         2329\n",
            "Name: work_type, dtype: object \n",
            "\n"
          ]
        }
      ]
    },
    {
      "cell_type": "code",
      "source": [
        "print(df_train['stroke'].unique(),'\\n')\n",
        "print(df_train['stroke'].value_counts(), '\\n')\n",
        "print(df_train['stroke'].describe(),'\\n')"
      ],
      "metadata": {
        "colab": {
          "base_uri": "https://localhost:8080/"
        },
        "id": "obp3_BGJeQUB",
        "outputId": "59fa2727-b3b1-4594-b434-a009f794f0f9"
      },
      "execution_count": null,
      "outputs": [
        {
          "output_type": "stream",
          "name": "stdout",
          "text": [
            "[0 1] \n",
            "\n",
            "0    3888\n",
            "1     199\n",
            "Name: stroke, dtype: int64 \n",
            "\n",
            "count    4087.000000\n",
            "mean        0.048691\n",
            "std         0.215248\n",
            "min         0.000000\n",
            "25%         0.000000\n",
            "50%         0.000000\n",
            "75%         0.000000\n",
            "max         1.000000\n",
            "Name: stroke, dtype: float64 \n",
            "\n"
          ]
        }
      ]
    },
    {
      "cell_type": "markdown",
      "source": [
        "**Data Testing Models**"
      ],
      "metadata": {
        "id": "lrzYr8EFetqa"
      }
    },
    {
      "cell_type": "code",
      "source": [
        "y_train = df_train['stroke']\n",
        "X_train = df_train.drop('stroke',axis=1)\n",
        "\n",
        "y_test = df_test['stroke']\n",
        "X_test = df_test.drop('stroke',axis=1)"
      ],
      "metadata": {
        "id": "kmhRoAr0bV1K"
      },
      "execution_count": null,
      "outputs": []
    },
    {
      "cell_type": "markdown",
      "source": [
        "**Decision Tree Features + KNN**\n",
        "\n",
        "---\n",
        "\n"
      ],
      "metadata": {
        "id": "2HNQBV24x61t"
      }
    },
    {
      "cell_type": "code",
      "source": [
        "from sklearn.tree import DecisionTreeClassifier\n",
        "from sklearn.neighbors import KNeighborsClassifier\n",
        "from sklearn.metrics import mean_squared_error\n",
        "\n",
        "\n",
        "cart = DecisionTreeClassifier()\n",
        "cart = cart.fit(X_train, y_train)\n",
        "tree_predictions_train = cart.predict(X_train)\n",
        "tree_predictions_test = cart.predict(X_test)\n",
        "\n",
        "combined_train_features = pd.concat([X_train, pd.DataFrame(tree_predictions_train, columns=['Tree_Predictions'])], axis=1)\n",
        "combined_test_features = pd.concat([X_test, pd.DataFrame(tree_predictions_test, columns=['Tree_Predictions'])], axis=1)\n",
        "\n",
        "\n",
        "knn = KNeighborsClassifier(n_neighbors=5)\n",
        "knn.fit(combined_train_features, y_train)\n",
        "knn_predictions = knn.predict(combined_test_features)\n",
        "\n",
        "\n",
        "rmse = mean_squared_error(y_test, knn_predictions, squared=False)\n",
        "print(f\"RMSE for KNN predictions on test set: {rmse}\")"
      ],
      "metadata": {
        "colab": {
          "base_uri": "https://localhost:8080/",
          "height": 385
        },
        "id": "ip395dTStfyv",
        "outputId": "5af63aa9-f6bd-4e46-a9c6-01c3e33b4a8e"
      },
      "execution_count": null,
      "outputs": [
        {
          "output_type": "error",
          "ename": "ValueError",
          "evalue": "ignored",
          "traceback": [
            "\u001b[0;31m---------------------------------------------------------------------------\u001b[0m",
            "\u001b[0;31mValueError\u001b[0m                                Traceback (most recent call last)",
            "\u001b[0;32m<ipython-input-88-4608db6382d8>\u001b[0m in \u001b[0;36m<cell line: 7>\u001b[0;34m()\u001b[0m\n\u001b[1;32m      5\u001b[0m \u001b[0;34m\u001b[0m\u001b[0m\n\u001b[1;32m      6\u001b[0m \u001b[0mcart\u001b[0m \u001b[0;34m=\u001b[0m \u001b[0mDecisionTreeClassifier\u001b[0m\u001b[0;34m(\u001b[0m\u001b[0;34m)\u001b[0m\u001b[0;34m\u001b[0m\u001b[0;34m\u001b[0m\u001b[0m\n\u001b[0;32m----> 7\u001b[0;31m \u001b[0mcart\u001b[0m\u001b[0;34m.\u001b[0m\u001b[0mfit\u001b[0m\u001b[0;34m(\u001b[0m\u001b[0mX_train\u001b[0m\u001b[0;34m,\u001b[0m \u001b[0my_train\u001b[0m\u001b[0;34m)\u001b[0m\u001b[0;34m\u001b[0m\u001b[0;34m\u001b[0m\u001b[0m\n\u001b[0m\u001b[1;32m      8\u001b[0m \u001b[0mtree_predictions_train\u001b[0m \u001b[0;34m=\u001b[0m \u001b[0mcart\u001b[0m\u001b[0;34m.\u001b[0m\u001b[0mpredict\u001b[0m\u001b[0;34m(\u001b[0m\u001b[0mX_train\u001b[0m\u001b[0;34m)\u001b[0m\u001b[0;34m\u001b[0m\u001b[0;34m\u001b[0m\u001b[0m\n\u001b[1;32m      9\u001b[0m \u001b[0mtree_predictions_test\u001b[0m \u001b[0;34m=\u001b[0m \u001b[0mcart\u001b[0m\u001b[0;34m.\u001b[0m\u001b[0mpredict\u001b[0m\u001b[0;34m(\u001b[0m\u001b[0mX_test\u001b[0m\u001b[0;34m)\u001b[0m\u001b[0;34m\u001b[0m\u001b[0;34m\u001b[0m\u001b[0m\n",
            "\u001b[0;32m/usr/local/lib/python3.10/dist-packages/sklearn/tree/_classes.py\u001b[0m in \u001b[0;36mfit\u001b[0;34m(self, X, y, sample_weight, check_input)\u001b[0m\n\u001b[1;32m    887\u001b[0m         \"\"\"\n\u001b[1;32m    888\u001b[0m \u001b[0;34m\u001b[0m\u001b[0m\n\u001b[0;32m--> 889\u001b[0;31m         super().fit(\n\u001b[0m\u001b[1;32m    890\u001b[0m             \u001b[0mX\u001b[0m\u001b[0;34m,\u001b[0m\u001b[0;34m\u001b[0m\u001b[0;34m\u001b[0m\u001b[0m\n\u001b[1;32m    891\u001b[0m             \u001b[0my\u001b[0m\u001b[0;34m,\u001b[0m\u001b[0;34m\u001b[0m\u001b[0;34m\u001b[0m\u001b[0m\n",
            "\u001b[0;32m/usr/local/lib/python3.10/dist-packages/sklearn/tree/_classes.py\u001b[0m in \u001b[0;36mfit\u001b[0;34m(self, X, y, sample_weight, check_input)\u001b[0m\n\u001b[1;32m    184\u001b[0m             \u001b[0mcheck_X_params\u001b[0m \u001b[0;34m=\u001b[0m \u001b[0mdict\u001b[0m\u001b[0;34m(\u001b[0m\u001b[0mdtype\u001b[0m\u001b[0;34m=\u001b[0m\u001b[0mDTYPE\u001b[0m\u001b[0;34m,\u001b[0m \u001b[0maccept_sparse\u001b[0m\u001b[0;34m=\u001b[0m\u001b[0;34m\"csc\"\u001b[0m\u001b[0;34m)\u001b[0m\u001b[0;34m\u001b[0m\u001b[0;34m\u001b[0m\u001b[0m\n\u001b[1;32m    185\u001b[0m             \u001b[0mcheck_y_params\u001b[0m \u001b[0;34m=\u001b[0m \u001b[0mdict\u001b[0m\u001b[0;34m(\u001b[0m\u001b[0mensure_2d\u001b[0m\u001b[0;34m=\u001b[0m\u001b[0;32mFalse\u001b[0m\u001b[0;34m,\u001b[0m \u001b[0mdtype\u001b[0m\u001b[0;34m=\u001b[0m\u001b[0;32mNone\u001b[0m\u001b[0;34m)\u001b[0m\u001b[0;34m\u001b[0m\u001b[0;34m\u001b[0m\u001b[0m\n\u001b[0;32m--> 186\u001b[0;31m             X, y = self._validate_data(\n\u001b[0m\u001b[1;32m    187\u001b[0m                 \u001b[0mX\u001b[0m\u001b[0;34m,\u001b[0m \u001b[0my\u001b[0m\u001b[0;34m,\u001b[0m \u001b[0mvalidate_separately\u001b[0m\u001b[0;34m=\u001b[0m\u001b[0;34m(\u001b[0m\u001b[0mcheck_X_params\u001b[0m\u001b[0;34m,\u001b[0m \u001b[0mcheck_y_params\u001b[0m\u001b[0;34m)\u001b[0m\u001b[0;34m\u001b[0m\u001b[0;34m\u001b[0m\u001b[0m\n\u001b[1;32m    188\u001b[0m             )\n",
            "\u001b[0;32m/usr/local/lib/python3.10/dist-packages/sklearn/base.py\u001b[0m in \u001b[0;36m_validate_data\u001b[0;34m(self, X, y, reset, validate_separately, **check_params)\u001b[0m\n\u001b[1;32m    577\u001b[0m                 \u001b[0;32mif\u001b[0m \u001b[0;34m\"estimator\"\u001b[0m \u001b[0;32mnot\u001b[0m \u001b[0;32min\u001b[0m \u001b[0mcheck_X_params\u001b[0m\u001b[0;34m:\u001b[0m\u001b[0;34m\u001b[0m\u001b[0;34m\u001b[0m\u001b[0m\n\u001b[1;32m    578\u001b[0m                     \u001b[0mcheck_X_params\u001b[0m \u001b[0;34m=\u001b[0m \u001b[0;34m{\u001b[0m\u001b[0;34m**\u001b[0m\u001b[0mdefault_check_params\u001b[0m\u001b[0;34m,\u001b[0m \u001b[0;34m**\u001b[0m\u001b[0mcheck_X_params\u001b[0m\u001b[0;34m}\u001b[0m\u001b[0;34m\u001b[0m\u001b[0;34m\u001b[0m\u001b[0m\n\u001b[0;32m--> 579\u001b[0;31m                 \u001b[0mX\u001b[0m \u001b[0;34m=\u001b[0m \u001b[0mcheck_array\u001b[0m\u001b[0;34m(\u001b[0m\u001b[0mX\u001b[0m\u001b[0;34m,\u001b[0m \u001b[0minput_name\u001b[0m\u001b[0;34m=\u001b[0m\u001b[0;34m\"X\"\u001b[0m\u001b[0;34m,\u001b[0m \u001b[0;34m**\u001b[0m\u001b[0mcheck_X_params\u001b[0m\u001b[0;34m)\u001b[0m\u001b[0;34m\u001b[0m\u001b[0;34m\u001b[0m\u001b[0m\n\u001b[0m\u001b[1;32m    580\u001b[0m                 \u001b[0;32mif\u001b[0m \u001b[0;34m\"estimator\"\u001b[0m \u001b[0;32mnot\u001b[0m \u001b[0;32min\u001b[0m \u001b[0mcheck_y_params\u001b[0m\u001b[0;34m:\u001b[0m\u001b[0;34m\u001b[0m\u001b[0;34m\u001b[0m\u001b[0m\n\u001b[1;32m    581\u001b[0m                     \u001b[0mcheck_y_params\u001b[0m \u001b[0;34m=\u001b[0m \u001b[0;34m{\u001b[0m\u001b[0;34m**\u001b[0m\u001b[0mdefault_check_params\u001b[0m\u001b[0;34m,\u001b[0m \u001b[0;34m**\u001b[0m\u001b[0mcheck_y_params\u001b[0m\u001b[0;34m}\u001b[0m\u001b[0;34m\u001b[0m\u001b[0;34m\u001b[0m\u001b[0m\n",
            "\u001b[0;32m/usr/local/lib/python3.10/dist-packages/sklearn/utils/validation.py\u001b[0m in \u001b[0;36mcheck_array\u001b[0;34m(array, accept_sparse, accept_large_sparse, dtype, order, copy, force_all_finite, ensure_2d, allow_nd, ensure_min_samples, ensure_min_features, estimator, input_name)\u001b[0m\n\u001b[1;32m    877\u001b[0m                     \u001b[0marray\u001b[0m \u001b[0;34m=\u001b[0m \u001b[0mxp\u001b[0m\u001b[0;34m.\u001b[0m\u001b[0mastype\u001b[0m\u001b[0;34m(\u001b[0m\u001b[0marray\u001b[0m\u001b[0;34m,\u001b[0m \u001b[0mdtype\u001b[0m\u001b[0;34m,\u001b[0m \u001b[0mcopy\u001b[0m\u001b[0;34m=\u001b[0m\u001b[0;32mFalse\u001b[0m\u001b[0;34m)\u001b[0m\u001b[0;34m\u001b[0m\u001b[0;34m\u001b[0m\u001b[0m\n\u001b[1;32m    878\u001b[0m                 \u001b[0;32melse\u001b[0m\u001b[0;34m:\u001b[0m\u001b[0;34m\u001b[0m\u001b[0;34m\u001b[0m\u001b[0m\n\u001b[0;32m--> 879\u001b[0;31m                     \u001b[0marray\u001b[0m \u001b[0;34m=\u001b[0m \u001b[0m_asarray_with_order\u001b[0m\u001b[0;34m(\u001b[0m\u001b[0marray\u001b[0m\u001b[0;34m,\u001b[0m \u001b[0morder\u001b[0m\u001b[0;34m=\u001b[0m\u001b[0morder\u001b[0m\u001b[0;34m,\u001b[0m \u001b[0mdtype\u001b[0m\u001b[0;34m=\u001b[0m\u001b[0mdtype\u001b[0m\u001b[0;34m,\u001b[0m \u001b[0mxp\u001b[0m\u001b[0;34m=\u001b[0m\u001b[0mxp\u001b[0m\u001b[0;34m)\u001b[0m\u001b[0;34m\u001b[0m\u001b[0;34m\u001b[0m\u001b[0m\n\u001b[0m\u001b[1;32m    880\u001b[0m             \u001b[0;32mexcept\u001b[0m \u001b[0mComplexWarning\u001b[0m \u001b[0;32mas\u001b[0m \u001b[0mcomplex_warning\u001b[0m\u001b[0;34m:\u001b[0m\u001b[0;34m\u001b[0m\u001b[0;34m\u001b[0m\u001b[0m\n\u001b[1;32m    881\u001b[0m                 raise ValueError(\n",
            "\u001b[0;32m/usr/local/lib/python3.10/dist-packages/sklearn/utils/_array_api.py\u001b[0m in \u001b[0;36m_asarray_with_order\u001b[0;34m(array, dtype, order, copy, xp)\u001b[0m\n\u001b[1;32m    183\u001b[0m     \u001b[0;32mif\u001b[0m \u001b[0mxp\u001b[0m\u001b[0;34m.\u001b[0m\u001b[0m__name__\u001b[0m \u001b[0;32min\u001b[0m \u001b[0;34m{\u001b[0m\u001b[0;34m\"numpy\"\u001b[0m\u001b[0;34m,\u001b[0m \u001b[0;34m\"numpy.array_api\"\u001b[0m\u001b[0;34m}\u001b[0m\u001b[0;34m:\u001b[0m\u001b[0;34m\u001b[0m\u001b[0;34m\u001b[0m\u001b[0m\n\u001b[1;32m    184\u001b[0m         \u001b[0;31m# Use NumPy API to support order\u001b[0m\u001b[0;34m\u001b[0m\u001b[0;34m\u001b[0m\u001b[0m\n\u001b[0;32m--> 185\u001b[0;31m         \u001b[0marray\u001b[0m \u001b[0;34m=\u001b[0m \u001b[0mnumpy\u001b[0m\u001b[0;34m.\u001b[0m\u001b[0masarray\u001b[0m\u001b[0;34m(\u001b[0m\u001b[0marray\u001b[0m\u001b[0;34m,\u001b[0m \u001b[0morder\u001b[0m\u001b[0;34m=\u001b[0m\u001b[0morder\u001b[0m\u001b[0;34m,\u001b[0m \u001b[0mdtype\u001b[0m\u001b[0;34m=\u001b[0m\u001b[0mdtype\u001b[0m\u001b[0;34m)\u001b[0m\u001b[0;34m\u001b[0m\u001b[0;34m\u001b[0m\u001b[0m\n\u001b[0m\u001b[1;32m    186\u001b[0m         \u001b[0;32mreturn\u001b[0m \u001b[0mxp\u001b[0m\u001b[0;34m.\u001b[0m\u001b[0masarray\u001b[0m\u001b[0;34m(\u001b[0m\u001b[0marray\u001b[0m\u001b[0;34m,\u001b[0m \u001b[0mcopy\u001b[0m\u001b[0;34m=\u001b[0m\u001b[0mcopy\u001b[0m\u001b[0;34m)\u001b[0m\u001b[0;34m\u001b[0m\u001b[0;34m\u001b[0m\u001b[0m\n\u001b[1;32m    187\u001b[0m     \u001b[0;32melse\u001b[0m\u001b[0;34m:\u001b[0m\u001b[0;34m\u001b[0m\u001b[0;34m\u001b[0m\u001b[0m\n",
            "\u001b[0;32m/usr/local/lib/python3.10/dist-packages/pandas/core/generic.py\u001b[0m in \u001b[0;36m__array__\u001b[0;34m(self, dtype)\u001b[0m\n\u001b[1;32m   2068\u001b[0m \u001b[0;34m\u001b[0m\u001b[0m\n\u001b[1;32m   2069\u001b[0m     \u001b[0;32mdef\u001b[0m \u001b[0m__array__\u001b[0m\u001b[0;34m(\u001b[0m\u001b[0mself\u001b[0m\u001b[0;34m,\u001b[0m \u001b[0mdtype\u001b[0m\u001b[0;34m:\u001b[0m \u001b[0mnpt\u001b[0m\u001b[0;34m.\u001b[0m\u001b[0mDTypeLike\u001b[0m \u001b[0;34m|\u001b[0m \u001b[0;32mNone\u001b[0m \u001b[0;34m=\u001b[0m \u001b[0;32mNone\u001b[0m\u001b[0;34m)\u001b[0m \u001b[0;34m->\u001b[0m \u001b[0mnp\u001b[0m\u001b[0;34m.\u001b[0m\u001b[0mndarray\u001b[0m\u001b[0;34m:\u001b[0m\u001b[0;34m\u001b[0m\u001b[0;34m\u001b[0m\u001b[0m\n\u001b[0;32m-> 2070\u001b[0;31m         \u001b[0;32mreturn\u001b[0m \u001b[0mnp\u001b[0m\u001b[0;34m.\u001b[0m\u001b[0masarray\u001b[0m\u001b[0;34m(\u001b[0m\u001b[0mself\u001b[0m\u001b[0;34m.\u001b[0m\u001b[0m_values\u001b[0m\u001b[0;34m,\u001b[0m \u001b[0mdtype\u001b[0m\u001b[0;34m=\u001b[0m\u001b[0mdtype\u001b[0m\u001b[0;34m)\u001b[0m\u001b[0;34m\u001b[0m\u001b[0;34m\u001b[0m\u001b[0m\n\u001b[0m\u001b[1;32m   2071\u001b[0m \u001b[0;34m\u001b[0m\u001b[0m\n\u001b[1;32m   2072\u001b[0m     def __array_wrap__(\n",
            "\u001b[0;31mValueError\u001b[0m: could not convert string to float: 'Male'"
          ]
        }
      ]
    },
    {
      "cell_type": "code",
      "source": [],
      "metadata": {
        "id": "9jbnedpztfvt"
      },
      "execution_count": null,
      "outputs": []
    },
    {
      "cell_type": "code",
      "source": [],
      "metadata": {
        "id": "sDNgLS3Ftfsq"
      },
      "execution_count": null,
      "outputs": []
    },
    {
      "cell_type": "code",
      "source": [],
      "metadata": {
        "id": "RZ3cfTuUtfpZ"
      },
      "execution_count": null,
      "outputs": []
    },
    {
      "cell_type": "code",
      "source": [],
      "metadata": {
        "id": "M8HcRg_1tfmO"
      },
      "execution_count": null,
      "outputs": []
    },
    {
      "cell_type": "code",
      "source": [],
      "metadata": {
        "id": "MoFe2gsTtfjI"
      },
      "execution_count": null,
      "outputs": []
    },
    {
      "cell_type": "code",
      "source": [],
      "metadata": {
        "id": "WwOsqoojtfgI"
      },
      "execution_count": null,
      "outputs": []
    },
    {
      "cell_type": "code",
      "source": [],
      "metadata": {
        "id": "NxaJPgVutfda"
      },
      "execution_count": null,
      "outputs": []
    },
    {
      "cell_type": "code",
      "source": [],
      "metadata": {
        "id": "EJMvBDfntfaj"
      },
      "execution_count": null,
      "outputs": []
    }
  ]
}